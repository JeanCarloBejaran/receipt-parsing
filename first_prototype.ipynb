{
 "cells": [
  {
   "cell_type": "code",
   "execution_count": 1,
   "metadata": {},
   "outputs": [],
   "source": [
    "import boto3\n",
    "import pandas as pd\n",
    "import dateutil\n",
    "import re"
   ]
  },
  {
   "cell_type": "code",
   "execution_count": 2,
   "metadata": {},
   "outputs": [],
   "source": [
    "import boto3\n",
    "\n",
    "# Document\n",
    "s3BucketName = \"receipt-parsing-mvp\"\n",
    "documentName = \"recibo5.jpg\"\n",
    "\n",
    "# Amazon Textract client\n",
    "textract = boto3.client('textract')\n",
    "\n",
    "# Call Amazon Textract — DETECT DOCUMENT TEXT\n",
    "# response = textract.detect_document_text(\n",
    "#     Document={\n",
    "#         'S3Object': {\n",
    "#             'Bucket': s3BucketName,\n",
    "#             'Name': documentName\n",
    "#         }\n",
    "#     })\n",
    "\n",
    "# Call Amazon Textract — ANALYZE DOCUMENT\n",
    "response = textract.analyze_document(\n",
    "    Document={\n",
    "        'S3Object': {\n",
    "            'Bucket': s3BucketName,\n",
    "            'Name': documentName\n",
    "        }\n",
    "    },\n",
    "    FeatureTypes=[\"FORMS\"]\n",
    ")\n"
   ]
  },
  {
   "cell_type": "code",
   "execution_count": 3,
   "metadata": {},
   "outputs": [
    {
     "ename": "ParamValidationError",
     "evalue": "Parameter validation failed:\nMissing required parameter in input: \"DocumentLocation\"\nMissing required parameter in input: \"FeatureTypes\"",
     "output_type": "error",
     "traceback": [
      "\u001b[0;31m---------------------------------------------------------------------------\u001b[0m",
      "\u001b[0;31mParamValidationError\u001b[0m                      Traceback (most recent call last)",
      "\u001b[0;32m<ipython-input-3-1bb3e959f54c>\u001b[0m in \u001b[0;36m<module>\u001b[0;34m\u001b[0m\n\u001b[0;32m----> 1\u001b[0;31m \u001b[0mtextract\u001b[0m\u001b[0;34m.\u001b[0m\u001b[0mstart_document_analysis\u001b[0m\u001b[0;34m(\u001b[0m\u001b[0;34m)\u001b[0m\u001b[0;34m\u001b[0m\u001b[0;34m\u001b[0m\u001b[0m\n\u001b[0m",
      "\u001b[0;32m~/.pyenv/versions/3.8.0/envs/receipt-parsing/lib/python3.8/site-packages/botocore/client.py\u001b[0m in \u001b[0;36m_api_call\u001b[0;34m(self, *args, **kwargs)\u001b[0m\n\u001b[1;32m    314\u001b[0m                     \"%s() only accepts keyword arguments.\" % py_operation_name)\n\u001b[1;32m    315\u001b[0m             \u001b[0;31m# The \"self\" in this scope is referring to the BaseClient.\u001b[0m\u001b[0;34m\u001b[0m\u001b[0;34m\u001b[0m\u001b[0;34m\u001b[0m\u001b[0m\n\u001b[0;32m--> 316\u001b[0;31m             \u001b[0;32mreturn\u001b[0m \u001b[0mself\u001b[0m\u001b[0;34m.\u001b[0m\u001b[0m_make_api_call\u001b[0m\u001b[0;34m(\u001b[0m\u001b[0moperation_name\u001b[0m\u001b[0;34m,\u001b[0m \u001b[0mkwargs\u001b[0m\u001b[0;34m)\u001b[0m\u001b[0;34m\u001b[0m\u001b[0;34m\u001b[0m\u001b[0m\n\u001b[0m\u001b[1;32m    317\u001b[0m \u001b[0;34m\u001b[0m\u001b[0m\n\u001b[1;32m    318\u001b[0m         \u001b[0m_api_call\u001b[0m\u001b[0;34m.\u001b[0m\u001b[0m__name__\u001b[0m \u001b[0;34m=\u001b[0m \u001b[0mstr\u001b[0m\u001b[0;34m(\u001b[0m\u001b[0mpy_operation_name\u001b[0m\u001b[0;34m)\u001b[0m\u001b[0;34m\u001b[0m\u001b[0;34m\u001b[0m\u001b[0m\n",
      "\u001b[0;32m~/.pyenv/versions/3.8.0/envs/receipt-parsing/lib/python3.8/site-packages/botocore/client.py\u001b[0m in \u001b[0;36m_make_api_call\u001b[0;34m(self, operation_name, api_params)\u001b[0m\n\u001b[1;32m    605\u001b[0m             \u001b[0;34m'auth_type'\u001b[0m\u001b[0;34m:\u001b[0m \u001b[0moperation_model\u001b[0m\u001b[0;34m.\u001b[0m\u001b[0mauth_type\u001b[0m\u001b[0;34m,\u001b[0m\u001b[0;34m\u001b[0m\u001b[0;34m\u001b[0m\u001b[0m\n\u001b[1;32m    606\u001b[0m         }\n\u001b[0;32m--> 607\u001b[0;31m         request_dict = self._convert_to_request_dict(\n\u001b[0m\u001b[1;32m    608\u001b[0m             api_params, operation_model, context=request_context)\n\u001b[1;32m    609\u001b[0m \u001b[0;34m\u001b[0m\u001b[0m\n",
      "\u001b[0;32m~/.pyenv/versions/3.8.0/envs/receipt-parsing/lib/python3.8/site-packages/botocore/client.py\u001b[0m in \u001b[0;36m_convert_to_request_dict\u001b[0;34m(self, api_params, operation_model, context)\u001b[0m\n\u001b[1;32m    653\u001b[0m         api_params = self._emit_api_params(\n\u001b[1;32m    654\u001b[0m             api_params, operation_model, context)\n\u001b[0;32m--> 655\u001b[0;31m         request_dict = self._serializer.serialize_to_request(\n\u001b[0m\u001b[1;32m    656\u001b[0m             api_params, operation_model)\n\u001b[1;32m    657\u001b[0m         \u001b[0;32mif\u001b[0m \u001b[0;32mnot\u001b[0m \u001b[0mself\u001b[0m\u001b[0;34m.\u001b[0m\u001b[0m_client_config\u001b[0m\u001b[0;34m.\u001b[0m\u001b[0minject_host_prefix\u001b[0m\u001b[0;34m:\u001b[0m\u001b[0;34m\u001b[0m\u001b[0;34m\u001b[0m\u001b[0m\n",
      "\u001b[0;32m~/.pyenv/versions/3.8.0/envs/receipt-parsing/lib/python3.8/site-packages/botocore/validate.py\u001b[0m in \u001b[0;36mserialize_to_request\u001b[0;34m(self, parameters, operation_model)\u001b[0m\n\u001b[1;32m    295\u001b[0m                                                     operation_model.input_shape)\n\u001b[1;32m    296\u001b[0m             \u001b[0;32mif\u001b[0m \u001b[0mreport\u001b[0m\u001b[0;34m.\u001b[0m\u001b[0mhas_errors\u001b[0m\u001b[0;34m(\u001b[0m\u001b[0;34m)\u001b[0m\u001b[0;34m:\u001b[0m\u001b[0;34m\u001b[0m\u001b[0;34m\u001b[0m\u001b[0m\n\u001b[0;32m--> 297\u001b[0;31m                 \u001b[0;32mraise\u001b[0m \u001b[0mParamValidationError\u001b[0m\u001b[0;34m(\u001b[0m\u001b[0mreport\u001b[0m\u001b[0;34m=\u001b[0m\u001b[0mreport\u001b[0m\u001b[0;34m.\u001b[0m\u001b[0mgenerate_report\u001b[0m\u001b[0;34m(\u001b[0m\u001b[0;34m)\u001b[0m\u001b[0;34m)\u001b[0m\u001b[0;34m\u001b[0m\u001b[0;34m\u001b[0m\u001b[0m\n\u001b[0m\u001b[1;32m    298\u001b[0m         return self._serializer.serialize_to_request(parameters,\n\u001b[1;32m    299\u001b[0m                                                      operation_model)\n",
      "\u001b[0;31mParamValidationError\u001b[0m: Parameter validation failed:\nMissing required parameter in input: \"DocumentLocation\"\nMissing required parameter in input: \"FeatureTypes\""
     ]
    }
   ],
   "source": [
    "textract.start_document_analysis()"
   ]
  },
  {
   "cell_type": "code",
   "execution_count": null,
   "metadata": {
    "scrolled": true
   },
   "outputs": [],
   "source": [
    "response"
   ]
  },
  {
   "cell_type": "code",
   "execution_count": null,
   "metadata": {},
   "outputs": [],
   "source": [
    "blocks = response[\"Blocks\"]\n",
    "len(blocks)"
   ]
  },
  {
   "cell_type": "code",
   "execution_count": null,
   "metadata": {},
   "outputs": [],
   "source": [
    "df = pd.DataFrame(blocks)\n",
    "df.head(4)"
   ]
  },
  {
   "cell_type": "code",
   "execution_count": null,
   "metadata": {},
   "outputs": [],
   "source": [
    "df.info()"
   ]
  },
  {
   "cell_type": "code",
   "execution_count": null,
   "metadata": {},
   "outputs": [],
   "source": [
    "df.Confidence.describe()"
   ]
  },
  {
   "cell_type": "code",
   "execution_count": null,
   "metadata": {},
   "outputs": [],
   "source": [
    "df[df.Confidence < 50]"
   ]
  },
  {
   "cell_type": "code",
   "execution_count": null,
   "metadata": {},
   "outputs": [],
   "source": [
    "df.loc[df.BlockType == \"LINE\", \"Text\"][1]"
   ]
  },
  {
   "cell_type": "code",
   "execution_count": null,
   "metadata": {
    "scrolled": true
   },
   "outputs": [],
   "source": [
    "df[df.BlockType == \"LINE\"].head(50)"
   ]
  },
  {
   "cell_type": "code",
   "execution_count": null,
   "metadata": {},
   "outputs": [],
   "source": []
  },
  {
   "cell_type": "code",
   "execution_count": null,
   "metadata": {},
   "outputs": [],
   "source": [
    "lines = [b for b in blocks if b[\"BlockType\"] == \"LINE\"]"
   ]
  },
  {
   "cell_type": "code",
   "execution_count": null,
   "metadata": {},
   "outputs": [],
   "source": [
    "words = [b for b in blocks if b[\"BlockType\"] == \"WORD\"]"
   ]
  },
  {
   "cell_type": "code",
   "execution_count": null,
   "metadata": {},
   "outputs": [],
   "source": [
    "kv = [b for b in blocks if b[\"BlockType\"] == \"KEY_VALUE_SET\"] "
   ]
  },
  {
   "cell_type": "code",
   "execution_count": null,
   "metadata": {
    "scrolled": true
   },
   "outputs": [],
   "source": [
    "response"
   ]
  },
  {
   "cell_type": "code",
   "execution_count": null,
   "metadata": {},
   "outputs": [],
   "source": []
  },
  {
   "cell_type": "code",
   "execution_count": null,
   "metadata": {},
   "outputs": [],
   "source": []
  },
  {
   "cell_type": "code",
   "execution_count": null,
   "metadata": {},
   "outputs": [],
   "source": []
  },
  {
   "cell_type": "markdown",
   "metadata": {},
   "source": [
    "# — DATE"
   ]
  },
  {
   "cell_type": "code",
   "execution_count": null,
   "metadata": {},
   "outputs": [],
   "source": [
    "def nearest(items, pivot):\n",
    "    return min(items, key=lambda x: abs(x - pivot))\n",
    "\n",
    "def _find_date(text):\n",
    "    if not text:\n",
    "        return None\n",
    "    text = text.lower()\n",
    "    if 'fecha' in text and len(text) >= 10:\n",
    "        date = re.findall(r'\\d{1,2}/\\d{1,2}/\\d{2,4}', text)\n",
    "        if not date:\n",
    "            date = re.findall(r'\\d{1,2}-\\d{1,2}-\\d{2,4}', text)\n",
    "        if date:\n",
    "            date = date[0]\n",
    "        else:\n",
    "            date = text.split()[-1]\n",
    "            if not is_date(date):\n",
    "                return None\n",
    "        date = re.sub(r':', '', date)\n",
    "        date = re.sub(r'\\s', '', date)\n",
    "        if len(date.split(\"/\")) == 3:\n",
    "#             print(\"here\")\n",
    "            date = dateutil.parser.parse(date, dayfirst=True)\n",
    "        elif len(date.split(\"/\")) == 2:\n",
    "            date = dateutil.parser.parse(date[:2]+\"/\"+date[3:5]+\"/\"+\"2020\", dayfirst=True)\n",
    "        return date\n",
    "    elif re.findall(r'\\d{1,2}/\\d{1,2}/\\d{2,4}', text):\n",
    "        date = re.findall(r'\\d{1,2}/\\d{1,2}/\\d{2,4}', text)\n",
    "        date = dateutil.parser.parse(date[0], dayfirst=True)\n",
    "        return date\n",
    "    elif re.findall(r'\\d{1,2}-\\d{1,2}-\\d{2,4}', text):\n",
    "        date = re.findall(r'\\d{1,2}-\\d{1,2}-\\d{2,4}', text)\n",
    "        date = dateutil.parser.parse(date[0], dayfirst=True)\n",
    "        return date\n",
    "    else:\n",
    "        return None\n",
    "\n",
    "def get_date(blocktype):\n",
    "    date = df.loc[(df.BlockType == blocktype), \"Text\"].apply(_find_date).dropna().tolist()\n",
    "    if date:\n",
    "#         date = [d for d in date if is_date(d)]\n",
    "        date = [d for d in date if isinstance(d, datetime.datetime)]\n",
    "        date = [pd.to_datetime(d) for d in date]\n",
    "        date = nearest(date, datetime.datetime.today())\n",
    "        date = date.strftime('%Y%m%d')\n",
    "        print(\"Date found: {}\".format(date))\n",
    "        return date\n",
    "    else:\n",
    "        print(\"Date NOT found!!!\")\n",
    "        return None"
   ]
  },
  {
   "cell_type": "code",
   "execution_count": null,
   "metadata": {},
   "outputs": [],
   "source": [
    "d = \"5/8/2020\""
   ]
  },
  {
   "cell_type": "code",
   "execution_count": null,
   "metadata": {
    "scrolled": true
   },
   "outputs": [],
   "source": [
    "a = get_date(\"LINE\")\n",
    "a"
   ]
  },
  {
   "cell_type": "code",
   "execution_count": null,
   "metadata": {
    "scrolled": true
   },
   "outputs": [],
   "source": [
    "a = df.loc[(df.BlockType == \"LINE\"), \"Text\"].apply(_find_date).dropna()\n",
    "a"
   ]
  },
  {
   "cell_type": "code",
   "execution_count": null,
   "metadata": {},
   "outputs": [],
   "source": []
  },
  {
   "cell_type": "code",
   "execution_count": null,
   "metadata": {},
   "outputs": [],
   "source": []
  },
  {
   "cell_type": "markdown",
   "metadata": {},
   "source": [
    "# RNC"
   ]
  },
  {
   "cell_type": "code",
   "execution_count": null,
   "metadata": {},
   "outputs": [],
   "source": [
    "re.findall('(?:\\d-?){9}$', \"FACTURA VALIDA RNC CREDITO 2 131921142 FISCAL\")"
   ]
  },
  {
   "cell_type": "code",
   "execution_count": null,
   "metadata": {},
   "outputs": [],
   "source": [
    "def _find_rnc(text, outside_rnc_key=False):\n",
    "    if not text:\n",
    "        return None\n",
    "    text = text.lower()\n",
    "    if 'rnc' in text and len(text) >= 12:\n",
    "        rnc = re.findall('(?:\\d-?){9}$', text)\n",
    "        if not rnc:\n",
    "            rnc = re.findall('(?:\\d-?){9}', text)\n",
    "        if rnc:\n",
    "            rnc = str(rnc[0])\n",
    "        rnc = re.sub(r':', '', rnc)\n",
    "        rnc = re.sub(r'\\s', '', rnc)\n",
    "#         rnc = re.sub(r'\\s', '', rnc)\n",
    "        rnc = re.sub(r'-', '', rnc)\n",
    "        return rnc\n",
    "    \n",
    "    elif outside_rnc_key and re.findall('(?:\\d-?){9}$', text) and 'ncf' not in text:\n",
    "        rnc = re.findall('(?:\\d-?){9}$', text)\n",
    "        rnc = re.sub(r'-', '', rnc[0])\n",
    "        return rnc\n",
    "#     else:\n",
    "# #         rnc = re.sub(r'\\s', '', text)\n",
    "#         rnc = re.findall('(?:\\d-?){9}$', text)\n",
    "#         if rnc:\n",
    "#             rnc = re.sub(r'-', '', rnc[0])\n",
    "#             return rnc\n",
    "    else:\n",
    "        return None\n",
    "\n",
    "def get_rnc(blocktype):\n",
    "    rnc_list = df.loc[(df.BlockType == blocktype), \"Text\"].apply(_find_rnc)\\\n",
    "                                                          .dropna()\\\n",
    "                                                          .drop_duplicates()\\\n",
    "                                                          .tolist()\n",
    "#     if len(rnc_list) < 2:\n",
    "#         rnc_list = df.loc[(df.BlockType == blocktype), \"Text\"].apply(lambda x: _find_rnc(x, True))\\\n",
    "#                                                           .dropna()\\\n",
    "#                                                           .drop_duplicates()\\\n",
    "#                                                           .tolist()\n",
    "    if rnc_list:\n",
    "        print(\"RNC's found: {}\".format(rnc_list))\n",
    "        return rnc_list\n",
    "    else:\n",
    "        print(\"RNC's NOT found!!!\")\n",
    "        return None"
   ]
  },
  {
   "cell_type": "code",
   "execution_count": null,
   "metadata": {
    "scrolled": true
   },
   "outputs": [],
   "source": [
    "get_rnc(\"LINE\")"
   ]
  },
  {
   "cell_type": "code",
   "execution_count": null,
   "metadata": {
    "scrolled": true
   },
   "outputs": [],
   "source": [
    "df.loc[(df.BlockType == \"LINE\"), \"Text\"].apply(_find_rnc)"
   ]
  },
  {
   "cell_type": "code",
   "execution_count": null,
   "metadata": {},
   "outputs": [],
   "source": []
  },
  {
   "cell_type": "code",
   "execution_count": null,
   "metadata": {},
   "outputs": [],
   "source": []
  },
  {
   "cell_type": "markdown",
   "metadata": {},
   "source": [
    "# — NCF"
   ]
  },
  {
   "cell_type": "code",
   "execution_count": null,
   "metadata": {},
   "outputs": [],
   "source": [
    "a = \"B0100031756\""
   ]
  },
  {
   "cell_type": "code",
   "execution_count": null,
   "metadata": {},
   "outputs": [],
   "source": [
    "_find_ncf(a)"
   ]
  },
  {
   "cell_type": "code",
   "execution_count": null,
   "metadata": {},
   "outputs": [],
   "source": [
    "re.findall('B01\\d{8}', a)"
   ]
  },
  {
   "cell_type": "code",
   "execution_count": null,
   "metadata": {},
   "outputs": [],
   "source": [
    "def _find_ncf(text):\n",
    "    if not text:\n",
    "        return None\n",
    "    text = text.lower()\n",
    "    if 'ncf' in text:\n",
    "        ncf = text.split()[-1]\n",
    "        ncf = re.sub(r':', '', ncf)\n",
    "        ncf = re.sub(r'\\s', '', ncf)\n",
    "#         rnc = re.sub(r'\\s', '', rnc)\n",
    "        if re.findall('b01\\d{8}', ncf):\n",
    "            ncf = re.findall('b01\\d{8}', ncf)\n",
    "            ncf = re.sub(r'-', '', ncf[0])\n",
    "            return ncf\n",
    "        elif re.findall('01\\d{8}', ncf):\n",
    "            ncf = re.findall('01\\d{8}', ncf)\n",
    "            ncf = 'b' + re.sub(r'-', '', ncf[0])\n",
    "            return ncf\n",
    "    elif re.findall('b01\\d{8}', text):\n",
    "#         print(\"HERE\")\n",
    "        ncf = re.findall('b01\\d{8}', text)\n",
    "        ncf = re.sub(r'-', '', ncf[0])\n",
    "        return ncf\n",
    "#     else:\n",
    "#         return None\n",
    "#     else:\n",
    "# #         ncf = re.sub(r'\\s', '', text)\n",
    "#         ncf = re.findall('(?:\\d-?){9}$', text)\n",
    "#         if ncf:\n",
    "#             ncf = re.sub(r'-', '', ncf[0])\n",
    "#             return ncf\n",
    "    else:\n",
    "        return None\n",
    "\n",
    "def get_ncf(blocktype):\n",
    "    ncf = df.loc[(df.BlockType == blocktype), \"Text\"].apply(_find_ncf).dropna().tolist()\n",
    "    if ncf:\n",
    "        ncf = ncf[0].capitalize()\n",
    "        print(\"NCF found: {}\".format(ncf))\n",
    "        return ncf\n",
    "    else:\n",
    "        print(\"NCF NOT found!!!\")\n",
    "        return None"
   ]
  },
  {
   "cell_type": "code",
   "execution_count": null,
   "metadata": {},
   "outputs": [],
   "source": [
    "ncf = \"NCF: 0000000080100212454\""
   ]
  },
  {
   "cell_type": "code",
   "execution_count": null,
   "metadata": {},
   "outputs": [],
   "source": [
    "re.findall('01\\d{8}', ncf)"
   ]
  },
  {
   "cell_type": "code",
   "execution_count": null,
   "metadata": {},
   "outputs": [],
   "source": [
    "get_ncf(\"LINE\")"
   ]
  },
  {
   "cell_type": "code",
   "execution_count": null,
   "metadata": {},
   "outputs": [],
   "source": [
    "text = \"NCF B0100000072\""
   ]
  },
  {
   "cell_type": "code",
   "execution_count": null,
   "metadata": {},
   "outputs": [],
   "source": [
    "df.loc[(df.BlockType == \"LINE\"), \"Text\"].apply(_find_ncf).dropna().tolist()"
   ]
  },
  {
   "cell_type": "code",
   "execution_count": null,
   "metadata": {},
   "outputs": [],
   "source": []
  },
  {
   "cell_type": "code",
   "execution_count": null,
   "metadata": {},
   "outputs": [],
   "source": []
  },
  {
   "cell_type": "markdown",
   "metadata": {},
   "source": [
    "# — TOTAL"
   ]
  },
  {
   "cell_type": "code",
   "execution_count": null,
   "metadata": {},
   "outputs": [],
   "source": [
    "def _find_total(amount):\n",
    "    if not amount:\n",
    "        return None\n",
    "    amount = re.findall('[0-9]*,?[0-9]+(?:\\.\\d{2})', amount)\n",
    "    if amount:\n",
    "        return amount[0]\n",
    "    else:\n",
    "        return None\n",
    "\n",
    "def get_total(blocktype):\n",
    "    total = df.loc[(df.BlockType == blocktype), \"Text\"].apply(_find_total)\\\n",
    "                                                     .dropna()\\\n",
    "                                                     .drop_duplicates()\\\n",
    "                                                     .tolist()\n",
    "    if total:\n",
    "        total = [re.sub(' ', '.', t) for t in total]\n",
    "        total = [re.sub(',', '', t) for t in total]\n",
    "        total = list(map(float, total))\n",
    "        total = max(total)\n",
    "        print(\"TOTAL found: {}\".format(total))\n",
    "        return total\n",
    "    else:\n",
    "        print(\"TOTAL NOT found!!!\")\n",
    "        return None"
   ]
  },
  {
   "cell_type": "code",
   "execution_count": null,
   "metadata": {},
   "outputs": [],
   "source": [
    "get_total(\"LINE\")"
   ]
  },
  {
   "cell_type": "code",
   "execution_count": null,
   "metadata": {},
   "outputs": [],
   "source": [
    "l = df.loc[(df.BlockType == \"LINE\"), \"Text\"].apply(_find_total).dropna().drop_duplicates().tolist()\n",
    "l"
   ]
  },
  {
   "cell_type": "code",
   "execution_count": null,
   "metadata": {},
   "outputs": [],
   "source": [
    "df.loc[(df.BlockType == \"LINE\"), \"Text\"]"
   ]
  },
  {
   "cell_type": "code",
   "execution_count": null,
   "metadata": {},
   "outputs": [],
   "source": []
  },
  {
   "cell_type": "code",
   "execution_count": null,
   "metadata": {},
   "outputs": [],
   "source": []
  },
  {
   "cell_type": "code",
   "execution_count": null,
   "metadata": {},
   "outputs": [],
   "source": []
  },
  {
   "cell_type": "markdown",
   "metadata": {},
   "source": [
    "# — RESULT"
   ]
  },
  {
   "cell_type": "code",
   "execution_count": null,
   "metadata": {},
   "outputs": [],
   "source": [
    "date = get_date(\"LINE\")\n",
    "date\n",
    "\n",
    "rncs = get_rnc(\"LINE\")\n",
    "rncs\n",
    "\n",
    "ncf = get_ncf(\"LINE\")\n",
    "ncf\n",
    "\n",
    "total = get_total(\"LINE\")\n",
    "total"
   ]
  },
  {
   "cell_type": "code",
   "execution_count": null,
   "metadata": {},
   "outputs": [],
   "source": []
  },
  {
   "cell_type": "code",
   "execution_count": null,
   "metadata": {},
   "outputs": [],
   "source": [
    "# import json\n",
    "# with open(\"./rncs_dr_companies.json\") as json_file:\n",
    "#     dr_cos = json.load(json_file)"
   ]
  },
  {
   "cell_type": "code",
   "execution_count": null,
   "metadata": {},
   "outputs": [],
   "source": [
    "receipts = [\"recibo1.jpg\", \"recibo2.jpg\", \"recibo3.jpg\", \"recibo4.jpg\", \"recibo5.jpg\",\n",
    "            \"recibo6.jpg\", \"recibo7.jpg\", \"recibo8.jpg\", \"recibo9.jpg\"]"
   ]
  },
  {
   "cell_type": "code",
   "execution_count": null,
   "metadata": {},
   "outputs": [],
   "source": [
    "master = pd.DataFrame(columns=[\"Receipt #\", \"RNCs\", \"NCF\", \"Date\", \"Total\"])\n",
    "# master.columns = \n",
    "# for receipt in receipts:\n",
    "    "
   ]
  },
  {
   "cell_type": "code",
   "execution_count": null,
   "metadata": {},
   "outputs": [],
   "source": []
  },
  {
   "cell_type": "code",
   "execution_count": null,
   "metadata": {},
   "outputs": [],
   "source": []
  },
  {
   "cell_type": "code",
   "execution_count": null,
   "metadata": {},
   "outputs": [],
   "source": [
    "import boto3\n",
    "\n",
    "# Document\n",
    "s3BucketName = \"receipt-parsing-mvp\"\n",
    "documentName = \"recibo2.jpg\"\n",
    "\n",
    "# Amazon Textract client\n",
    "textract = boto3.client('textract')\n",
    "\n",
    "# Call Amazon Textract — DETECT DOCUMENT TEXT\n",
    "# response = textract.detect_document_text(\n",
    "#     Document={\n",
    "#         'S3Object': {\n",
    "#             'Bucket': s3BucketName,\n",
    "#             'Name': documentName\n",
    "#         }\n",
    "#     })\n",
    "\n",
    "\n"
   ]
  },
  {
   "cell_type": "code",
   "execution_count": null,
   "metadata": {},
   "outputs": [],
   "source": [
    "for receipt in receipts:\n",
    "    # Call Amazon Textract — ANALYZE DOCUMENT\n",
    "    response = textract.analyze_document(\n",
    "        Document={\n",
    "            'S3Object': {\n",
    "                'Bucket': s3BucketName,\n",
    "                'Name': receipt\n",
    "            }\n",
    "        },\n",
    "        FeatureTypes=[\"FORMS\"])\n",
    "    blocks = response[\"Blocks\"]\n",
    "    df = pd.DataFrame(blocks)\n",
    "    \n",
    "    date = get_date(\"LINE\")\n",
    "\n",
    "    rncs = get_rnc(\"LINE\")\n",
    "\n",
    "    ncf = get_ncf(\"LINE\")\n",
    "\n",
    "    total = get_total(\"LINE\")\n",
    "    \n",
    "    master = master.append({\"Receipt #\": receipt,\n",
    "               \"RNCs\":str(rncs),\n",
    "               \"NCF\":ncf,\n",
    "               \"Date\":date,\n",
    "               \"Total\":total}, ignore_index=True)"
   ]
  },
  {
   "cell_type": "code",
   "execution_count": null,
   "metadata": {},
   "outputs": [],
   "source": [
    "master"
   ]
  },
  {
   "cell_type": "code",
   "execution_count": null,
   "metadata": {},
   "outputs": [],
   "source": [
    "master.to_csv('first_trial.txt', sep='|', index=False, header=True)"
   ]
  },
  {
   "cell_type": "code",
   "execution_count": null,
   "metadata": {},
   "outputs": [],
   "source": [
    "textract.get_document_analysis()"
   ]
  },
  {
   "cell_type": "code",
   "execution_count": null,
   "metadata": {},
   "outputs": [],
   "source": []
  },
  {
   "cell_type": "code",
   "execution_count": null,
   "metadata": {},
   "outputs": [],
   "source": []
  },
  {
   "cell_type": "code",
   "execution_count": null,
   "metadata": {},
   "outputs": [],
   "source": []
  },
  {
   "cell_type": "code",
   "execution_count": null,
   "metadata": {},
   "outputs": [],
   "source": []
  }
 ],
 "metadata": {
  "kernelspec": {
   "display_name": "Python 3",
   "language": "python",
   "name": "python3"
  },
  "language_info": {
   "codemirror_mode": {
    "name": "ipython",
    "version": 3
   },
   "file_extension": ".py",
   "mimetype": "text/x-python",
   "name": "python",
   "nbconvert_exporter": "python",
   "pygments_lexer": "ipython3",
   "version": "3.8.0"
  }
 },
 "nbformat": 4,
 "nbformat_minor": 4
}
